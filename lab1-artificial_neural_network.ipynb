{
 "cells": [
  {
   "cell_type": "markdown",
   "metadata": {
    "id": "e_zkbrdcbQr-"
   },
   "source": [
    "# Deep Learning Lab - 1. Artificial Neural Network\n",
    "\n",
    "In this lab, we build a very basic neural network model by using keras and tensorflow in five simple steps:\n",
    "\n",
    "1. load the dataset and split it into train and validation datasets\n",
    "2. define our model using Keras with TensorFlow as backend\n",
    "3. compile our model by specifying loss function and optimizer\n",
    "4. fit our model to the train dataset\n",
    "5. evaluate our model on the validation dataset"
   ]
  },
  {
   "cell_type": "markdown",
   "metadata": {
    "id": "NPKg5keabQsC"
   },
   "source": [
    "## Step 0: Install dependencies\n",
    "\n",
    "In this lab, we use [TensorFlow](https://www.tensorflow.org/). TensorFlow is an open-source platform developed by Google for machine learning and deep learning. if you are using Kaggle or Google Colab environment, you can use TensorFlow without installing that but if you want to run your code locally you can install Tensorflow by using the following command with pip:"
   ]
  },
  {
   "cell_type": "code",
   "execution_count": null,
   "metadata": {
    "id": "GPzcYDdWbQsD"
   },
   "outputs": [],
   "source": [
    "! pip install tensorflow==2.16.1"
   ]
  },
  {
   "cell_type": "code",
   "execution_count": null,
   "metadata": {
    "execution": {
     "iopub.execute_input": "2024-09-06T15:03:01.133123Z",
     "iopub.status.busy": "2024-09-06T15:03:01.128449Z",
     "iopub.status.idle": "2024-09-06T15:03:01.139357Z",
     "shell.execute_reply": "2024-09-06T15:03:01.137622Z",
     "shell.execute_reply.started": "2024-09-06T15:03:01.133050Z"
    },
    "trusted": true,
    "id": "AU9shmgobQsE"
   },
   "outputs": [],
   "source": [
    "import tensorflow as tf\n",
    "print(tf.version.VERSION)"
   ]
  },
  {
   "cell_type": "markdown",
   "metadata": {
    "id": "tHpLTYF_bQsE"
   },
   "source": [
    "## Step 1: Data Prepareation"
   ]
  },
  {
   "cell_type": "markdown",
   "metadata": {
    "id": "drc4jlg2bQsF"
   },
   "source": [
    "We use and load [MNISt Dataset](https://en.wikipedia.org/wiki/MNIST_database). It is a large dataset of handwritten digits.\n",
    "\n",
    "Tensorflow internally has some methods for support various prominent datasets such MNIST, CIFAR10 and etc."
   ]
  },
  {
   "cell_type": "code",
   "execution_count": null,
   "metadata": {
    "execution": {
     "iopub.execute_input": "2024-09-06T15:03:01.143216Z",
     "iopub.status.busy": "2024-09-06T15:03:01.142204Z",
     "iopub.status.idle": "2024-09-06T15:03:01.466643Z",
     "shell.execute_reply": "2024-09-06T15:03:01.465338Z",
     "shell.execute_reply.started": "2024-09-06T15:03:01.143151Z"
    },
    "trusted": true,
    "id": "4xeCAQA4bQsF"
   },
   "outputs": [],
   "source": [
    "(x_train, y_train), (x_test, y_test) = tf.keras.datasets.mnist.load_data()"
   ]
  },
  {
   "cell_type": "markdown",
   "metadata": {
    "id": "ToetdYEEbQsF"
   },
   "source": [
    "The dataset consists of 28x28 grayscale images of handwritten digits (0-9). Each pixel in these images has an unsigned integer value ranging from 0 to 255, representing the intensity of the pixel. To reduce computational complexity and improve model accuracy, these pixel values are normalized by scaling them to a range between 0 and 1."
   ]
  },
  {
   "cell_type": "code",
   "execution_count": null,
   "metadata": {
    "execution": {
     "iopub.execute_input": "2024-09-06T15:03:01.468808Z",
     "iopub.status.busy": "2024-09-06T15:03:01.468287Z",
     "iopub.status.idle": "2024-09-06T15:03:01.625551Z",
     "shell.execute_reply": "2024-09-06T15:03:01.624284Z",
     "shell.execute_reply.started": "2024-09-06T15:03:01.468750Z"
    },
    "trusted": true,
    "id": "BUhA9pa6bQsG"
   },
   "outputs": [],
   "source": [
    "x_train, x_test = x_train / 255.0, x_test / 255.0"
   ]
  },
  {
   "cell_type": "markdown",
   "metadata": {
    "id": "iQx1DAsRbQsG"
   },
   "source": [
    "## Step 2: Define the Model\n",
    "* Models in Keras are defined as a sequence of layers. We create a `Sequential` model and add layers one at a time. The first thing to get right is to ensure the input layer has the right number of inputs.\n",
    "*  Fully connected layers are defined using the `Dense` class. We can specify the number of neurons in the layer as the first argument, specify the activation function using the `activation` argument."
   ]
  },
  {
   "cell_type": "code",
   "execution_count": null,
   "metadata": {
    "execution": {
     "iopub.execute_input": "2024-09-06T15:03:01.627649Z",
     "iopub.status.busy": "2024-09-06T15:03:01.627121Z",
     "iopub.status.idle": "2024-09-06T15:03:01.667542Z",
     "shell.execute_reply": "2024-09-06T15:03:01.666225Z",
     "shell.execute_reply.started": "2024-09-06T15:03:01.627588Z"
    },
    "trusted": true,
    "id": "ZevwXV3rbQsG"
   },
   "outputs": [],
   "source": [
    "import tensorflow as tf\n",
    "from tensorflow.keras.models import Sequential\n",
    "from tensorflow.keras.layers import Dense, Flatten\n",
    "model = Sequential([\n",
    "    Flatten(input_shape=(28,28)),\n",
    "    Dense(24, activation = 'relu'),\n",
    "    Dense(12, activation = 'relu'),\n",
    "    Dense(10, activation = 'softmax'),\n",
    "])"
   ]
  },
  {
   "cell_type": "markdown",
   "metadata": {
    "id": "V0zHpLHsbQsG"
   },
   "source": [
    "## Step 3: Compile the model\n",
    "We specify the loss function to use to evaluate a set of weights. We will use `sparse_categorical_crossentropy` which is defined in Keras for multi-class classification problems where the target labels are provided as integers. We also specify the optimizer used to search through different weights for the network. Here we will use `adam` optimizer."
   ]
  },
  {
   "cell_type": "code",
   "execution_count": null,
   "metadata": {
    "execution": {
     "iopub.execute_input": "2024-09-06T15:03:01.670896Z",
     "iopub.status.busy": "2024-09-06T15:03:01.670250Z",
     "iopub.status.idle": "2024-09-06T15:03:01.702543Z",
     "shell.execute_reply": "2024-09-06T15:03:01.701402Z",
     "shell.execute_reply.started": "2024-09-06T15:03:01.670850Z"
    },
    "trusted": true,
    "id": "d36N30pqbQsG",
    "outputId": "a36d3829-263a-464d-8085-742b5a50da6a"
   },
   "outputs": [
    {
     "data": {
      "text/html": [
       "<pre style=\"white-space:pre;overflow-x:auto;line-height:normal;font-family:Menlo,'DejaVu Sans Mono',consolas,'Courier New',monospace\"><span style=\"font-weight: bold\">Model: \"sequential_3\"</span>\n",
       "</pre>\n"
      ],
      "text/plain": [
       "\u001B[1mModel: \"sequential_3\"\u001B[0m\n"
      ]
     },
     "metadata": {},
     "output_type": "display_data"
    },
    {
     "data": {
      "text/html": [
       "<pre style=\"white-space:pre;overflow-x:auto;line-height:normal;font-family:Menlo,'DejaVu Sans Mono',consolas,'Courier New',monospace\">┏━━━━━━━━━━━━━━━━━━━━━━━━━━━━━━━━━┳━━━━━━━━━━━━━━━━━━━━━━━━┳━━━━━━━━━━━━━━━┓\n",
       "┃<span style=\"font-weight: bold\"> Layer (type)                    </span>┃<span style=\"font-weight: bold\"> Output Shape           </span>┃<span style=\"font-weight: bold\">       Param # </span>┃\n",
       "┡━━━━━━━━━━━━━━━━━━━━━━━━━━━━━━━━━╇━━━━━━━━━━━━━━━━━━━━━━━━╇━━━━━━━━━━━━━━━┩\n",
       "│ flatten_2 (<span style=\"color: #0087ff; text-decoration-color: #0087ff\">Flatten</span>)             │ (<span style=\"color: #00d7ff; text-decoration-color: #00d7ff\">None</span>, <span style=\"color: #00af00; text-decoration-color: #00af00\">784</span>)            │             <span style=\"color: #00af00; text-decoration-color: #00af00\">0</span> │\n",
       "├─────────────────────────────────┼────────────────────────┼───────────────┤\n",
       "│ dense_9 (<span style=\"color: #0087ff; text-decoration-color: #0087ff\">Dense</span>)                 │ (<span style=\"color: #00d7ff; text-decoration-color: #00d7ff\">None</span>, <span style=\"color: #00af00; text-decoration-color: #00af00\">24</span>)             │        <span style=\"color: #00af00; text-decoration-color: #00af00\">18,840</span> │\n",
       "├─────────────────────────────────┼────────────────────────┼───────────────┤\n",
       "│ dense_10 (<span style=\"color: #0087ff; text-decoration-color: #0087ff\">Dense</span>)                │ (<span style=\"color: #00d7ff; text-decoration-color: #00d7ff\">None</span>, <span style=\"color: #00af00; text-decoration-color: #00af00\">12</span>)             │           <span style=\"color: #00af00; text-decoration-color: #00af00\">300</span> │\n",
       "├─────────────────────────────────┼────────────────────────┼───────────────┤\n",
       "│ dense_11 (<span style=\"color: #0087ff; text-decoration-color: #0087ff\">Dense</span>)                │ (<span style=\"color: #00d7ff; text-decoration-color: #00d7ff\">None</span>, <span style=\"color: #00af00; text-decoration-color: #00af00\">10</span>)             │           <span style=\"color: #00af00; text-decoration-color: #00af00\">130</span> │\n",
       "└─────────────────────────────────┴────────────────────────┴───────────────┘\n",
       "</pre>\n"
      ],
      "text/plain": [
       "┏━━━━━━━━━━━━━━━━━━━━━━━━━━━━━━━━━┳━━━━━━━━━━━━━━━━━━━━━━━━┳━━━━━━━━━━━━━━━┓\n",
       "┃\u001B[1m \u001B[0m\u001B[1mLayer (type)                   \u001B[0m\u001B[1m \u001B[0m┃\u001B[1m \u001B[0m\u001B[1mOutput Shape          \u001B[0m\u001B[1m \u001B[0m┃\u001B[1m \u001B[0m\u001B[1m      Param #\u001B[0m\u001B[1m \u001B[0m┃\n",
       "┡━━━━━━━━━━━━━━━━━━━━━━━━━━━━━━━━━╇━━━━━━━━━━━━━━━━━━━━━━━━╇━━━━━━━━━━━━━━━┩\n",
       "│ flatten_2 (\u001B[38;5;33mFlatten\u001B[0m)             │ (\u001B[38;5;45mNone\u001B[0m, \u001B[38;5;34m784\u001B[0m)            │             \u001B[38;5;34m0\u001B[0m │\n",
       "├─────────────────────────────────┼────────────────────────┼───────────────┤\n",
       "│ dense_9 (\u001B[38;5;33mDense\u001B[0m)                 │ (\u001B[38;5;45mNone\u001B[0m, \u001B[38;5;34m24\u001B[0m)             │        \u001B[38;5;34m18,840\u001B[0m │\n",
       "├─────────────────────────────────┼────────────────────────┼───────────────┤\n",
       "│ dense_10 (\u001B[38;5;33mDense\u001B[0m)                │ (\u001B[38;5;45mNone\u001B[0m, \u001B[38;5;34m12\u001B[0m)             │           \u001B[38;5;34m300\u001B[0m │\n",
       "├─────────────────────────────────┼────────────────────────┼───────────────┤\n",
       "│ dense_11 (\u001B[38;5;33mDense\u001B[0m)                │ (\u001B[38;5;45mNone\u001B[0m, \u001B[38;5;34m10\u001B[0m)             │           \u001B[38;5;34m130\u001B[0m │\n",
       "└─────────────────────────────────┴────────────────────────┴───────────────┘\n"
      ]
     },
     "metadata": {},
     "output_type": "display_data"
    },
    {
     "data": {
      "text/html": [
       "<pre style=\"white-space:pre;overflow-x:auto;line-height:normal;font-family:Menlo,'DejaVu Sans Mono',consolas,'Courier New',monospace\"><span style=\"font-weight: bold\"> Total params: </span><span style=\"color: #00af00; text-decoration-color: #00af00\">19,270</span> (75.27 KB)\n",
       "</pre>\n"
      ],
      "text/plain": [
       "\u001B[1m Total params: \u001B[0m\u001B[38;5;34m19,270\u001B[0m (75.27 KB)\n"
      ]
     },
     "metadata": {},
     "output_type": "display_data"
    },
    {
     "data": {
      "text/html": [
       "<pre style=\"white-space:pre;overflow-x:auto;line-height:normal;font-family:Menlo,'DejaVu Sans Mono',consolas,'Courier New',monospace\"><span style=\"font-weight: bold\"> Trainable params: </span><span style=\"color: #00af00; text-decoration-color: #00af00\">19,270</span> (75.27 KB)\n",
       "</pre>\n"
      ],
      "text/plain": [
       "\u001B[1m Trainable params: \u001B[0m\u001B[38;5;34m19,270\u001B[0m (75.27 KB)\n"
      ]
     },
     "metadata": {},
     "output_type": "display_data"
    },
    {
     "data": {
      "text/html": [
       "<pre style=\"white-space:pre;overflow-x:auto;line-height:normal;font-family:Menlo,'DejaVu Sans Mono',consolas,'Courier New',monospace\"><span style=\"font-weight: bold\"> Non-trainable params: </span><span style=\"color: #00af00; text-decoration-color: #00af00\">0</span> (0.00 B)\n",
       "</pre>\n"
      ],
      "text/plain": [
       "\u001B[1m Non-trainable params: \u001B[0m\u001B[38;5;34m0\u001B[0m (0.00 B)\n"
      ]
     },
     "metadata": {},
     "output_type": "display_data"
    }
   ],
   "source": [
    "model.compile(optimizer = 'adam', loss = 'sparse_categorical_crossentropy', metrics = ['accuracy'])\n",
    "model.summary()"
   ]
  },
  {
   "cell_type": "markdown",
   "metadata": {
    "id": "5zujEnHkbQsH"
   },
   "source": [
    "## Step 4: Fit Model\n",
    "We can fit the model using the `fit()` method. We can also set the number of instances that are evaluated before a weight update in the network is performed called the **batch size** and set using the `batch_size` argument."
   ]
  },
  {
   "cell_type": "code",
   "execution_count": null,
   "metadata": {
    "execution": {
     "iopub.execute_input": "2024-09-06T15:03:01.704822Z",
     "iopub.status.busy": "2024-09-06T15:03:01.704445Z",
     "iopub.status.idle": "2024-09-06T15:08:35.808648Z",
     "shell.execute_reply": "2024-09-06T15:08:35.807429Z",
     "shell.execute_reply.started": "2024-09-06T15:03:01.704782Z"
    },
    "trusted": true,
    "id": "CNbAqFnZbQsH",
    "outputId": "b4879a8f-f96a-47ff-90ad-d5a1db9e3537"
   },
   "outputs": [
    {
     "name": "stdout",
     "output_type": "stream",
     "text": [
      "(60000,)\n",
      "(60000, 28, 28)\n",
      "Epoch 1/150\n",
      "\u001B[1m1200/1200\u001B[0m \u001B[32m━━━━━━━━━━━━━━━━━━━━\u001B[0m\u001B[37m\u001B[0m \u001B[1m3s\u001B[0m 2ms/step - accuracy: 0.7491 - loss: 0.8410\n",
      "Epoch 2/150\n",
      "\u001B[1m1200/1200\u001B[0m \u001B[32m━━━━━━━━━━━━━━━━━━━━\u001B[0m\u001B[37m\u001B[0m \u001B[1m2s\u001B[0m 2ms/step - accuracy: 0.9310 - loss: 0.2434\n",
      "Epoch 3/150\n",
      "\u001B[1m1200/1200\u001B[0m \u001B[32m━━━━━━━━━━━━━━━━━━━━\u001B[0m\u001B[37m\u001B[0m \u001B[1m2s\u001B[0m 2ms/step - accuracy: 0.9471 - loss: 0.1873\n",
      "Epoch 4/150\n",
      "\u001B[1m1200/1200\u001B[0m \u001B[32m━━━━━━━━━━━━━━━━━━━━\u001B[0m\u001B[37m\u001B[0m \u001B[1m2s\u001B[0m 2ms/step - accuracy: 0.9502 - loss: 0.1698\n",
      "Epoch 5/150\n",
      "\u001B[1m1200/1200\u001B[0m \u001B[32m━━━━━━━━━━━━━━━━━━━━\u001B[0m\u001B[37m\u001B[0m \u001B[1m2s\u001B[0m 2ms/step - accuracy: 0.9553 - loss: 0.1520\n",
      "Epoch 6/150\n",
      "\u001B[1m1200/1200\u001B[0m \u001B[32m━━━━━━━━━━━━━━━━━━━━\u001B[0m\u001B[37m\u001B[0m \u001B[1m2s\u001B[0m 2ms/step - accuracy: 0.9577 - loss: 0.1434\n",
      "Epoch 7/150\n",
      "\u001B[1m1200/1200\u001B[0m \u001B[32m━━━━━━━━━━━━━━━━━━━━\u001B[0m\u001B[37m\u001B[0m \u001B[1m2s\u001B[0m 2ms/step - accuracy: 0.9611 - loss: 0.1301\n",
      "Epoch 8/150\n",
      "\u001B[1m1200/1200\u001B[0m \u001B[32m━━━━━━━━━━━━━━━━━━━━\u001B[0m\u001B[37m\u001B[0m \u001B[1m2s\u001B[0m 2ms/step - accuracy: 0.9636 - loss: 0.1189\n",
      "Epoch 9/150\n",
      "\u001B[1m1200/1200\u001B[0m \u001B[32m━━━━━━━━━━━━━━━━━━━━\u001B[0m\u001B[37m\u001B[0m \u001B[1m2s\u001B[0m 2ms/step - accuracy: 0.9674 - loss: 0.1066\n",
      "Epoch 10/150\n",
      "\u001B[1m1200/1200\u001B[0m \u001B[32m━━━━━━━━━━━━━━━━━━━━\u001B[0m\u001B[37m\u001B[0m \u001B[1m2s\u001B[0m 2ms/step - accuracy: 0.9692 - loss: 0.1025\n",
      "Epoch 11/150\n",
      "\u001B[1m1200/1200\u001B[0m \u001B[32m━━━━━━━━━━━━━━━━━━━━\u001B[0m\u001B[37m\u001B[0m \u001B[1m2s\u001B[0m 2ms/step - accuracy: 0.9711 - loss: 0.0950\n",
      "Epoch 12/150\n",
      "\u001B[1m1200/1200\u001B[0m \u001B[32m━━━━━━━━━━━━━━━━━━━━\u001B[0m\u001B[37m\u001B[0m \u001B[1m2s\u001B[0m 2ms/step - accuracy: 0.9712 - loss: 0.0939\n",
      "Epoch 13/150\n",
      "\u001B[1m1200/1200\u001B[0m \u001B[32m━━━━━━━━━━━━━━━━━━━━\u001B[0m\u001B[37m\u001B[0m \u001B[1m2s\u001B[0m 2ms/step - accuracy: 0.9731 - loss: 0.0866\n",
      "Epoch 14/150\n",
      "\u001B[1m1200/1200\u001B[0m \u001B[32m━━━━━━━━━━━━━━━━━━━━\u001B[0m\u001B[37m\u001B[0m \u001B[1m2s\u001B[0m 2ms/step - accuracy: 0.9756 - loss: 0.0802\n",
      "Epoch 15/150\n",
      "\u001B[1m1200/1200\u001B[0m \u001B[32m━━━━━━━━━━━━━━━━━━━━\u001B[0m\u001B[37m\u001B[0m \u001B[1m2s\u001B[0m 2ms/step - accuracy: 0.9761 - loss: 0.0783\n",
      "Epoch 16/150\n",
      "\u001B[1m1200/1200\u001B[0m \u001B[32m━━━━━━━━━━━━━━━━━━━━\u001B[0m\u001B[37m\u001B[0m \u001B[1m2s\u001B[0m 2ms/step - accuracy: 0.9756 - loss: 0.0772\n",
      "Epoch 17/150\n",
      "\u001B[1m1200/1200\u001B[0m \u001B[32m━━━━━━━━━━━━━━━━━━━━\u001B[0m\u001B[37m\u001B[0m \u001B[1m2s\u001B[0m 2ms/step - accuracy: 0.9782 - loss: 0.0728\n",
      "Epoch 18/150\n",
      "\u001B[1m1200/1200\u001B[0m \u001B[32m━━━━━━━━━━━━━━━━━━━━\u001B[0m\u001B[37m\u001B[0m \u001B[1m2s\u001B[0m 2ms/step - accuracy: 0.9793 - loss: 0.0665\n",
      "Epoch 19/150\n",
      "\u001B[1m1200/1200\u001B[0m \u001B[32m━━━━━━━━━━━━━━━━━━━━\u001B[0m\u001B[37m\u001B[0m \u001B[1m2s\u001B[0m 2ms/step - accuracy: 0.9791 - loss: 0.0668\n",
      "Epoch 20/150\n",
      "\u001B[1m1200/1200\u001B[0m \u001B[32m━━━━━━━━━━━━━━━━━━━━\u001B[0m\u001B[37m\u001B[0m \u001B[1m2s\u001B[0m 2ms/step - accuracy: 0.9795 - loss: 0.0646\n",
      "Epoch 21/150\n",
      "\u001B[1m1200/1200\u001B[0m \u001B[32m━━━━━━━━━━━━━━━━━━━━\u001B[0m\u001B[37m\u001B[0m \u001B[1m2s\u001B[0m 2ms/step - accuracy: 0.9812 - loss: 0.0616\n",
      "Epoch 22/150\n",
      "\u001B[1m1200/1200\u001B[0m \u001B[32m━━━━━━━━━━━━━━━━━━━━\u001B[0m\u001B[37m\u001B[0m \u001B[1m2s\u001B[0m 2ms/step - accuracy: 0.9820 - loss: 0.0578\n",
      "Epoch 23/150\n",
      "\u001B[1m1200/1200\u001B[0m \u001B[32m━━━━━━━━━━━━━━━━━━━━\u001B[0m\u001B[37m\u001B[0m \u001B[1m2s\u001B[0m 2ms/step - accuracy: 0.9812 - loss: 0.0634\n",
      "Epoch 24/150\n",
      "\u001B[1m1200/1200\u001B[0m \u001B[32m━━━━━━━━━━━━━━━━━━━━\u001B[0m\u001B[37m\u001B[0m \u001B[1m2s\u001B[0m 2ms/step - accuracy: 0.9820 - loss: 0.0577\n",
      "Epoch 25/150\n",
      "\u001B[1m1200/1200\u001B[0m \u001B[32m━━━━━━━━━━━━━━━━━━━━\u001B[0m\u001B[37m\u001B[0m \u001B[1m2s\u001B[0m 2ms/step - accuracy: 0.9833 - loss: 0.0523\n",
      "Epoch 26/150\n",
      "\u001B[1m1200/1200\u001B[0m \u001B[32m━━━━━━━━━━━━━━━━━━━━\u001B[0m\u001B[37m\u001B[0m \u001B[1m2s\u001B[0m 2ms/step - accuracy: 0.9846 - loss: 0.0518\n",
      "Epoch 27/150\n",
      "\u001B[1m1200/1200\u001B[0m \u001B[32m━━━━━━━━━━━━━━━━━━━━\u001B[0m\u001B[37m\u001B[0m \u001B[1m2s\u001B[0m 2ms/step - accuracy: 0.9834 - loss: 0.0510\n",
      "Epoch 28/150\n",
      "\u001B[1m1200/1200\u001B[0m \u001B[32m━━━━━━━━━━━━━━━━━━━━\u001B[0m\u001B[37m\u001B[0m \u001B[1m2s\u001B[0m 2ms/step - accuracy: 0.9837 - loss: 0.0499\n",
      "Epoch 29/150\n",
      "\u001B[1m1200/1200\u001B[0m \u001B[32m━━━━━━━━━━━━━━━━━━━━\u001B[0m\u001B[37m\u001B[0m \u001B[1m2s\u001B[0m 2ms/step - accuracy: 0.9849 - loss: 0.0483\n",
      "Epoch 30/150\n",
      "\u001B[1m1200/1200\u001B[0m \u001B[32m━━━━━━━━━━━━━━━━━━━━\u001B[0m\u001B[37m\u001B[0m \u001B[1m2s\u001B[0m 2ms/step - accuracy: 0.9843 - loss: 0.0478\n",
      "Epoch 31/150\n",
      "\u001B[1m1200/1200\u001B[0m \u001B[32m━━━━━━━━━━━━━━━━━━━━\u001B[0m\u001B[37m\u001B[0m \u001B[1m2s\u001B[0m 2ms/step - accuracy: 0.9863 - loss: 0.0444\n",
      "Epoch 32/150\n",
      "\u001B[1m1200/1200\u001B[0m \u001B[32m━━━━━━━━━━━━━━━━━━━━\u001B[0m\u001B[37m\u001B[0m \u001B[1m2s\u001B[0m 2ms/step - accuracy: 0.9861 - loss: 0.0453\n",
      "Epoch 33/150\n",
      "\u001B[1m1200/1200\u001B[0m \u001B[32m━━━━━━━━━━━━━━━━━━━━\u001B[0m\u001B[37m\u001B[0m \u001B[1m2s\u001B[0m 2ms/step - accuracy: 0.9857 - loss: 0.0435\n",
      "Epoch 34/150\n",
      "\u001B[1m1200/1200\u001B[0m \u001B[32m━━━━━━━━━━━━━━━━━━━━\u001B[0m\u001B[37m\u001B[0m \u001B[1m2s\u001B[0m 2ms/step - accuracy: 0.9861 - loss: 0.0431\n",
      "Epoch 35/150\n",
      "\u001B[1m1200/1200\u001B[0m \u001B[32m━━━━━━━━━━━━━━━━━━━━\u001B[0m\u001B[37m\u001B[0m \u001B[1m2s\u001B[0m 2ms/step - accuracy: 0.9869 - loss: 0.0400\n",
      "Epoch 36/150\n",
      "\u001B[1m1200/1200\u001B[0m \u001B[32m━━━━━━━━━━━━━━━━━━━━\u001B[0m\u001B[37m\u001B[0m \u001B[1m2s\u001B[0m 2ms/step - accuracy: 0.9866 - loss: 0.0398\n",
      "Epoch 37/150\n",
      "\u001B[1m1200/1200\u001B[0m \u001B[32m━━━━━━━━━━━━━━━━━━━━\u001B[0m\u001B[37m\u001B[0m \u001B[1m2s\u001B[0m 2ms/step - accuracy: 0.9870 - loss: 0.0391\n",
      "Epoch 38/150\n",
      "\u001B[1m1200/1200\u001B[0m \u001B[32m━━━━━━━━━━━━━━━━━━━━\u001B[0m\u001B[37m\u001B[0m \u001B[1m2s\u001B[0m 2ms/step - accuracy: 0.9881 - loss: 0.0373\n",
      "Epoch 39/150\n",
      "\u001B[1m1200/1200\u001B[0m \u001B[32m━━━━━━━━━━━━━━━━━━━━\u001B[0m\u001B[37m\u001B[0m \u001B[1m3s\u001B[0m 2ms/step - accuracy: 0.9895 - loss: 0.0335\n",
      "Epoch 40/150\n",
      "\u001B[1m1200/1200\u001B[0m \u001B[32m━━━━━━━━━━━━━━━━━━━━\u001B[0m\u001B[37m\u001B[0m \u001B[1m2s\u001B[0m 2ms/step - accuracy: 0.9886 - loss: 0.0365\n",
      "Epoch 41/150\n",
      "\u001B[1m1200/1200\u001B[0m \u001B[32m━━━━━━━━━━━━━━━━━━━━\u001B[0m\u001B[37m\u001B[0m \u001B[1m2s\u001B[0m 2ms/step - accuracy: 0.9893 - loss: 0.0339\n",
      "Epoch 42/150\n",
      "\u001B[1m1200/1200\u001B[0m \u001B[32m━━━━━━━━━━━━━━━━━━━━\u001B[0m\u001B[37m\u001B[0m \u001B[1m2s\u001B[0m 2ms/step - accuracy: 0.9895 - loss: 0.0347\n",
      "Epoch 43/150\n",
      "\u001B[1m1200/1200\u001B[0m \u001B[32m━━━━━━━━━━━━━━━━━━━━\u001B[0m\u001B[37m\u001B[0m \u001B[1m2s\u001B[0m 2ms/step - accuracy: 0.9884 - loss: 0.0342\n",
      "Epoch 44/150\n",
      "\u001B[1m1200/1200\u001B[0m \u001B[32m━━━━━━━━━━━━━━━━━━━━\u001B[0m\u001B[37m\u001B[0m \u001B[1m2s\u001B[0m 2ms/step - accuracy: 0.9895 - loss: 0.0321\n",
      "Epoch 45/150\n",
      "\u001B[1m1200/1200\u001B[0m \u001B[32m━━━━━━━━━━━━━━━━━━━━\u001B[0m\u001B[37m\u001B[0m \u001B[1m2s\u001B[0m 2ms/step - accuracy: 0.9905 - loss: 0.0297\n",
      "Epoch 46/150\n",
      "\u001B[1m1200/1200\u001B[0m \u001B[32m━━━━━━━━━━━━━━━━━━━━\u001B[0m\u001B[37m\u001B[0m \u001B[1m2s\u001B[0m 2ms/step - accuracy: 0.9884 - loss: 0.0336\n",
      "Epoch 47/150\n",
      "\u001B[1m1200/1200\u001B[0m \u001B[32m━━━━━━━━━━━━━━━━━━━━\u001B[0m\u001B[37m\u001B[0m \u001B[1m2s\u001B[0m 2ms/step - accuracy: 0.9903 - loss: 0.0300\n",
      "Epoch 48/150\n",
      "\u001B[1m1200/1200\u001B[0m \u001B[32m━━━━━━━━━━━━━━━━━━━━\u001B[0m\u001B[37m\u001B[0m \u001B[1m2s\u001B[0m 2ms/step - accuracy: 0.9903 - loss: 0.0284\n",
      "Epoch 49/150\n",
      "\u001B[1m1200/1200\u001B[0m \u001B[32m━━━━━━━━━━━━━━━━━━━━\u001B[0m\u001B[37m\u001B[0m \u001B[1m2s\u001B[0m 2ms/step - accuracy: 0.9902 - loss: 0.0289\n",
      "Epoch 50/150\n",
      "\u001B[1m1200/1200\u001B[0m \u001B[32m━━━━━━━━━━━━━━━━━━━━\u001B[0m\u001B[37m\u001B[0m \u001B[1m2s\u001B[0m 2ms/step - accuracy: 0.9910 - loss: 0.0292\n",
      "Epoch 51/150\n",
      "\u001B[1m1200/1200\u001B[0m \u001B[32m━━━━━━━━━━━━━━━━━━━━\u001B[0m\u001B[37m\u001B[0m \u001B[1m2s\u001B[0m 2ms/step - accuracy: 0.9908 - loss: 0.0280\n",
      "Epoch 52/150\n",
      "\u001B[1m1200/1200\u001B[0m \u001B[32m━━━━━━━━━━━━━━━━━━━━\u001B[0m\u001B[37m\u001B[0m \u001B[1m2s\u001B[0m 2ms/step - accuracy: 0.9916 - loss: 0.0243\n",
      "Epoch 53/150\n",
      "\u001B[1m1200/1200\u001B[0m \u001B[32m━━━━━━━━━━━━━━━━━━━━\u001B[0m\u001B[37m\u001B[0m \u001B[1m2s\u001B[0m 2ms/step - accuracy: 0.9911 - loss: 0.0261\n",
      "Epoch 54/150\n",
      "\u001B[1m1200/1200\u001B[0m \u001B[32m━━━━━━━━━━━━━━━━━━━━\u001B[0m\u001B[37m\u001B[0m \u001B[1m2s\u001B[0m 2ms/step - accuracy: 0.9916 - loss: 0.0252\n",
      "Epoch 55/150\n",
      "\u001B[1m1200/1200\u001B[0m \u001B[32m━━━━━━━━━━━━━━━━━━━━\u001B[0m\u001B[37m\u001B[0m \u001B[1m2s\u001B[0m 2ms/step - accuracy: 0.9925 - loss: 0.0232\n",
      "Epoch 56/150\n",
      "\u001B[1m1200/1200\u001B[0m \u001B[32m━━━━━━━━━━━━━━━━━━━━\u001B[0m\u001B[37m\u001B[0m \u001B[1m2s\u001B[0m 2ms/step - accuracy: 0.9919 - loss: 0.0232\n",
      "Epoch 57/150\n",
      "\u001B[1m1200/1200\u001B[0m \u001B[32m━━━━━━━━━━━━━━━━━━━━\u001B[0m\u001B[37m\u001B[0m \u001B[1m3s\u001B[0m 2ms/step - accuracy: 0.9928 - loss: 0.0229\n",
      "Epoch 58/150\n",
      "\u001B[1m1200/1200\u001B[0m \u001B[32m━━━━━━━━━━━━━━━━━━━━\u001B[0m\u001B[37m\u001B[0m \u001B[1m2s\u001B[0m 2ms/step - accuracy: 0.9916 - loss: 0.0253\n",
      "Epoch 59/150\n",
      "\u001B[1m1200/1200\u001B[0m \u001B[32m━━━━━━━━━━━━━━━━━━━━\u001B[0m\u001B[37m\u001B[0m \u001B[1m2s\u001B[0m 2ms/step - accuracy: 0.9921 - loss: 0.0235\n",
      "Epoch 60/150\n",
      "\u001B[1m1200/1200\u001B[0m \u001B[32m━━━━━━━━━━━━━━━━━━━━\u001B[0m\u001B[37m\u001B[0m \u001B[1m2s\u001B[0m 2ms/step - accuracy: 0.9916 - loss: 0.0240\n",
      "Epoch 61/150\n",
      "\u001B[1m1200/1200\u001B[0m \u001B[32m━━━━━━━━━━━━━━━━━━━━\u001B[0m\u001B[37m\u001B[0m \u001B[1m2s\u001B[0m 2ms/step - accuracy: 0.9934 - loss: 0.0212\n",
      "Epoch 62/150\n",
      "\u001B[1m1200/1200\u001B[0m \u001B[32m━━━━━━━━━━━━━━━━━━━━\u001B[0m\u001B[37m\u001B[0m \u001B[1m2s\u001B[0m 2ms/step - accuracy: 0.9930 - loss: 0.0213\n",
      "Epoch 63/150\n",
      "\u001B[1m1200/1200\u001B[0m \u001B[32m━━━━━━━━━━━━━━━━━━━━\u001B[0m\u001B[37m\u001B[0m \u001B[1m2s\u001B[0m 2ms/step - accuracy: 0.9930 - loss: 0.0219\n",
      "Epoch 64/150\n",
      "\u001B[1m1200/1200\u001B[0m \u001B[32m━━━━━━━━━━━━━━━━━━━━\u001B[0m\u001B[37m\u001B[0m \u001B[1m2s\u001B[0m 2ms/step - accuracy: 0.9924 - loss: 0.0228\n",
      "Epoch 65/150\n",
      "\u001B[1m1200/1200\u001B[0m \u001B[32m━━━━━━━━━━━━━━━━━━━━\u001B[0m\u001B[37m\u001B[0m \u001B[1m2s\u001B[0m 2ms/step - accuracy: 0.9939 - loss: 0.0196\n",
      "Epoch 66/150\n",
      "\u001B[1m1200/1200\u001B[0m \u001B[32m━━━━━━━━━━━━━━━━━━━━\u001B[0m\u001B[37m\u001B[0m \u001B[1m2s\u001B[0m 2ms/step - accuracy: 0.9930 - loss: 0.0218\n",
      "Epoch 67/150\n",
      "\u001B[1m1200/1200\u001B[0m \u001B[32m━━━━━━━━━━━━━━━━━━━━\u001B[0m\u001B[37m\u001B[0m \u001B[1m2s\u001B[0m 2ms/step - accuracy: 0.9931 - loss: 0.0197\n",
      "Epoch 68/150\n",
      "\u001B[1m1200/1200\u001B[0m \u001B[32m━━━━━━━━━━━━━━━━━━━━\u001B[0m\u001B[37m\u001B[0m \u001B[1m2s\u001B[0m 2ms/step - accuracy: 0.9927 - loss: 0.0213\n",
      "Epoch 69/150\n",
      "\u001B[1m1200/1200\u001B[0m \u001B[32m━━━━━━━━━━━━━━━━━━━━\u001B[0m\u001B[37m\u001B[0m \u001B[1m2s\u001B[0m 2ms/step - accuracy: 0.9933 - loss: 0.0198\n",
      "Epoch 70/150\n",
      "\u001B[1m1200/1200\u001B[0m \u001B[32m━━━━━━━━━━━━━━━━━━━━\u001B[0m\u001B[37m\u001B[0m \u001B[1m2s\u001B[0m 2ms/step - accuracy: 0.9944 - loss: 0.0171\n",
      "Epoch 71/150\n",
      "\u001B[1m1200/1200\u001B[0m \u001B[32m━━━━━━━━━━━━━━━━━━━━\u001B[0m\u001B[37m\u001B[0m \u001B[1m2s\u001B[0m 2ms/step - accuracy: 0.9942 - loss: 0.0182\n",
      "Epoch 72/150\n",
      "\u001B[1m1200/1200\u001B[0m \u001B[32m━━━━━━━━━━━━━━━━━━━━\u001B[0m\u001B[37m\u001B[0m \u001B[1m2s\u001B[0m 2ms/step - accuracy: 0.9936 - loss: 0.0211\n",
      "Epoch 73/150\n",
      "\u001B[1m1200/1200\u001B[0m \u001B[32m━━━━━━━━━━━━━━━━━━━━\u001B[0m\u001B[37m\u001B[0m \u001B[1m2s\u001B[0m 2ms/step - accuracy: 0.9946 - loss: 0.0172\n",
      "Epoch 74/150\n",
      "\u001B[1m1200/1200\u001B[0m \u001B[32m━━━━━━━━━━━━━━━━━━━━\u001B[0m\u001B[37m\u001B[0m \u001B[1m3s\u001B[0m 2ms/step - accuracy: 0.9947 - loss: 0.0164\n",
      "Epoch 75/150\n",
      "\u001B[1m1200/1200\u001B[0m \u001B[32m━━━━━━━━━━━━━━━━━━━━\u001B[0m\u001B[37m\u001B[0m \u001B[1m2s\u001B[0m 2ms/step - accuracy: 0.9944 - loss: 0.0165\n",
      "Epoch 76/150\n",
      "\u001B[1m1200/1200\u001B[0m \u001B[32m━━━━━━━━━━━━━━━━━━━━\u001B[0m\u001B[37m\u001B[0m \u001B[1m2s\u001B[0m 2ms/step - accuracy: 0.9953 - loss: 0.0150\n",
      "Epoch 77/150\n",
      "\u001B[1m1200/1200\u001B[0m \u001B[32m━━━━━━━━━━━━━━━━━━━━\u001B[0m\u001B[37m\u001B[0m \u001B[1m2s\u001B[0m 2ms/step - accuracy: 0.9933 - loss: 0.0180\n",
      "Epoch 78/150\n",
      "\u001B[1m1200/1200\u001B[0m \u001B[32m━━━━━━━━━━━━━━━━━━━━\u001B[0m\u001B[37m\u001B[0m \u001B[1m2s\u001B[0m 2ms/step - accuracy: 0.9944 - loss: 0.0163\n",
      "Epoch 79/150\n",
      "\u001B[1m1200/1200\u001B[0m \u001B[32m━━━━━━━━━━━━━━━━━━━━\u001B[0m\u001B[37m\u001B[0m \u001B[1m2s\u001B[0m 2ms/step - accuracy: 0.9938 - loss: 0.0180\n",
      "Epoch 80/150\n",
      "\u001B[1m1200/1200\u001B[0m \u001B[32m━━━━━━━━━━━━━━━━━━━━\u001B[0m\u001B[37m\u001B[0m \u001B[1m2s\u001B[0m 2ms/step - accuracy: 0.9942 - loss: 0.0169\n",
      "Epoch 81/150\n",
      "\u001B[1m1200/1200\u001B[0m \u001B[32m━━━━━━━━━━━━━━━━━━━━\u001B[0m\u001B[37m\u001B[0m \u001B[1m2s\u001B[0m 2ms/step - accuracy: 0.9959 - loss: 0.0132\n",
      "Epoch 82/150\n",
      "\u001B[1m1200/1200\u001B[0m \u001B[32m━━━━━━━━━━━━━━━━━━━━\u001B[0m\u001B[37m\u001B[0m \u001B[1m2s\u001B[0m 2ms/step - accuracy: 0.9946 - loss: 0.0167\n",
      "Epoch 83/150\n",
      "\u001B[1m1200/1200\u001B[0m \u001B[32m━━━━━━━━━━━━━━━━━━━━\u001B[0m\u001B[37m\u001B[0m \u001B[1m3s\u001B[0m 2ms/step - accuracy: 0.9948 - loss: 0.0156\n",
      "Epoch 84/150\n",
      "\u001B[1m1200/1200\u001B[0m \u001B[32m━━━━━━━━━━━━━━━━━━━━\u001B[0m\u001B[37m\u001B[0m \u001B[1m2s\u001B[0m 2ms/step - accuracy: 0.9945 - loss: 0.0160\n",
      "Epoch 85/150\n",
      "\u001B[1m1200/1200\u001B[0m \u001B[32m━━━━━━━━━━━━━━━━━━━━\u001B[0m\u001B[37m\u001B[0m \u001B[1m2s\u001B[0m 2ms/step - accuracy: 0.9940 - loss: 0.0175\n",
      "Epoch 86/150\n",
      "\u001B[1m1200/1200\u001B[0m \u001B[32m━━━━━━━━━━━━━━━━━━━━\u001B[0m\u001B[37m\u001B[0m \u001B[1m3s\u001B[0m 2ms/step - accuracy: 0.9940 - loss: 0.0167\n",
      "Epoch 87/150\n",
      "\u001B[1m1200/1200\u001B[0m \u001B[32m━━━━━━━━━━━━━━━━━━━━\u001B[0m\u001B[37m\u001B[0m \u001B[1m2s\u001B[0m 2ms/step - accuracy: 0.9960 - loss: 0.0119\n",
      "Epoch 88/150\n",
      "\u001B[1m1200/1200\u001B[0m \u001B[32m━━━━━━━━━━━━━━━━━━━━\u001B[0m\u001B[37m\u001B[0m \u001B[1m2s\u001B[0m 2ms/step - accuracy: 0.9943 - loss: 0.0161\n",
      "Epoch 89/150\n",
      "\u001B[1m1200/1200\u001B[0m \u001B[32m━━━━━━━━━━━━━━━━━━━━\u001B[0m\u001B[37m\u001B[0m \u001B[1m2s\u001B[0m 2ms/step - accuracy: 0.9961 - loss: 0.0123\n",
      "Epoch 90/150\n",
      "\u001B[1m1200/1200\u001B[0m \u001B[32m━━━━━━━━━━━━━━━━━━━━\u001B[0m\u001B[37m\u001B[0m \u001B[1m2s\u001B[0m 2ms/step - accuracy: 0.9946 - loss: 0.0166\n",
      "Epoch 91/150\n",
      "\u001B[1m1200/1200\u001B[0m \u001B[32m━━━━━━━━━━━━━━━━━━━━\u001B[0m\u001B[37m\u001B[0m \u001B[1m2s\u001B[0m 2ms/step - accuracy: 0.9962 - loss: 0.0116\n",
      "Epoch 92/150\n",
      "\u001B[1m1200/1200\u001B[0m \u001B[32m━━━━━━━━━━━━━━━━━━━━\u001B[0m\u001B[37m\u001B[0m \u001B[1m2s\u001B[0m 2ms/step - accuracy: 0.9957 - loss: 0.0126\n",
      "Epoch 93/150\n",
      "\u001B[1m1200/1200\u001B[0m \u001B[32m━━━━━━━━━━━━━━━━━━━━\u001B[0m\u001B[37m\u001B[0m \u001B[1m2s\u001B[0m 2ms/step - accuracy: 0.9962 - loss: 0.0118\n",
      "Epoch 94/150\n",
      "\u001B[1m1200/1200\u001B[0m \u001B[32m━━━━━━━━━━━━━━━━━━━━\u001B[0m\u001B[37m\u001B[0m \u001B[1m2s\u001B[0m 2ms/step - accuracy: 0.9945 - loss: 0.0162\n",
      "Epoch 95/150\n",
      "\u001B[1m1200/1200\u001B[0m \u001B[32m━━━━━━━━━━━━━━━━━━━━\u001B[0m\u001B[37m\u001B[0m \u001B[1m2s\u001B[0m 2ms/step - accuracy: 0.9962 - loss: 0.0118\n",
      "Epoch 96/150\n",
      "\u001B[1m1200/1200\u001B[0m \u001B[32m━━━━━━━━━━━━━━━━━━━━\u001B[0m\u001B[37m\u001B[0m \u001B[1m2s\u001B[0m 2ms/step - accuracy: 0.9962 - loss: 0.0112\n",
      "Epoch 97/150\n",
      "\u001B[1m1200/1200\u001B[0m \u001B[32m━━━━━━━━━━━━━━━━━━━━\u001B[0m\u001B[37m\u001B[0m \u001B[1m2s\u001B[0m 2ms/step - accuracy: 0.9953 - loss: 0.0136\n",
      "Epoch 98/150\n",
      "\u001B[1m1200/1200\u001B[0m \u001B[32m━━━━━━━━━━━━━━━━━━━━\u001B[0m\u001B[37m\u001B[0m \u001B[1m2s\u001B[0m 2ms/step - accuracy: 0.9954 - loss: 0.0138\n",
      "Epoch 99/150\n",
      "\u001B[1m1200/1200\u001B[0m \u001B[32m━━━━━━━━━━━━━━━━━━━━\u001B[0m\u001B[37m\u001B[0m \u001B[1m2s\u001B[0m 2ms/step - accuracy: 0.9953 - loss: 0.0128\n",
      "Epoch 100/150\n",
      "\u001B[1m1200/1200\u001B[0m \u001B[32m━━━━━━━━━━━━━━━━━━━━\u001B[0m\u001B[37m\u001B[0m \u001B[1m2s\u001B[0m 2ms/step - accuracy: 0.9967 - loss: 0.0097\n",
      "Epoch 101/150\n",
      "\u001B[1m1200/1200\u001B[0m \u001B[32m━━━━━━━━━━━━━━━━━━━━\u001B[0m\u001B[37m\u001B[0m \u001B[1m2s\u001B[0m 2ms/step - accuracy: 0.9957 - loss: 0.0125\n",
      "Epoch 102/150\n",
      "\u001B[1m1200/1200\u001B[0m \u001B[32m━━━━━━━━━━━━━━━━━━━━\u001B[0m\u001B[37m\u001B[0m \u001B[1m2s\u001B[0m 2ms/step - accuracy: 0.9957 - loss: 0.0125\n",
      "Epoch 103/150\n",
      "\u001B[1m1200/1200\u001B[0m \u001B[32m━━━━━━━━━━━━━━━━━━━━\u001B[0m\u001B[37m\u001B[0m \u001B[1m2s\u001B[0m 2ms/step - accuracy: 0.9961 - loss: 0.0116\n",
      "Epoch 104/150\n",
      "\u001B[1m1200/1200\u001B[0m \u001B[32m━━━━━━━━━━━━━━━━━━━━\u001B[0m\u001B[37m\u001B[0m \u001B[1m2s\u001B[0m 2ms/step - accuracy: 0.9950 - loss: 0.0146\n",
      "Epoch 105/150\n",
      "\u001B[1m1200/1200\u001B[0m \u001B[32m━━━━━━━━━━━━━━━━━━━━\u001B[0m\u001B[37m\u001B[0m \u001B[1m2s\u001B[0m 2ms/step - accuracy: 0.9960 - loss: 0.0120\n",
      "Epoch 106/150\n",
      "\u001B[1m1200/1200\u001B[0m \u001B[32m━━━━━━━━━━━━━━━━━━━━\u001B[0m\u001B[37m\u001B[0m \u001B[1m2s\u001B[0m 2ms/step - accuracy: 0.9958 - loss: 0.0125\n",
      "Epoch 107/150\n",
      "\u001B[1m1200/1200\u001B[0m \u001B[32m━━━━━━━━━━━━━━━━━━━━\u001B[0m\u001B[37m\u001B[0m \u001B[1m2s\u001B[0m 2ms/step - accuracy: 0.9960 - loss: 0.0111\n",
      "Epoch 108/150\n",
      "\u001B[1m1200/1200\u001B[0m \u001B[32m━━━━━━━━━━━━━━━━━━━━\u001B[0m\u001B[37m\u001B[0m \u001B[1m2s\u001B[0m 2ms/step - accuracy: 0.9960 - loss: 0.0110\n",
      "Epoch 109/150\n",
      "\u001B[1m1200/1200\u001B[0m \u001B[32m━━━━━━━━━━━━━━━━━━━━\u001B[0m\u001B[37m\u001B[0m \u001B[1m2s\u001B[0m 2ms/step - accuracy: 0.9964 - loss: 0.0096\n",
      "Epoch 110/150\n",
      "\u001B[1m1200/1200\u001B[0m \u001B[32m━━━━━━━━━━━━━━━━━━━━\u001B[0m\u001B[37m\u001B[0m \u001B[1m2s\u001B[0m 2ms/step - accuracy: 0.9940 - loss: 0.0166\n",
      "Epoch 111/150\n",
      "\u001B[1m1200/1200\u001B[0m \u001B[32m━━━━━━━━━━━━━━━━━━━━\u001B[0m\u001B[37m\u001B[0m \u001B[1m2s\u001B[0m 2ms/step - accuracy: 0.9971 - loss: 0.0096\n",
      "Epoch 112/150\n",
      "\u001B[1m1200/1200\u001B[0m \u001B[32m━━━━━━━━━━━━━━━━━━━━\u001B[0m\u001B[37m\u001B[0m \u001B[1m2s\u001B[0m 2ms/step - accuracy: 0.9961 - loss: 0.0110\n",
      "Epoch 113/150\n",
      "\u001B[1m1200/1200\u001B[0m \u001B[32m━━━━━━━━━━━━━━━━━━━━\u001B[0m\u001B[37m\u001B[0m \u001B[1m2s\u001B[0m 2ms/step - accuracy: 0.9957 - loss: 0.0124\n",
      "Epoch 114/150\n",
      "\u001B[1m1200/1200\u001B[0m \u001B[32m━━━━━━━━━━━━━━━━━━━━\u001B[0m\u001B[37m\u001B[0m \u001B[1m2s\u001B[0m 2ms/step - accuracy: 0.9954 - loss: 0.0126\n",
      "Epoch 115/150\n",
      "\u001B[1m1200/1200\u001B[0m \u001B[32m━━━━━━━━━━━━━━━━━━━━\u001B[0m\u001B[37m\u001B[0m \u001B[1m3s\u001B[0m 2ms/step - accuracy: 0.9972 - loss: 0.0082\n",
      "Epoch 116/150\n",
      "\u001B[1m1200/1200\u001B[0m \u001B[32m━━━━━━━━━━━━━━━━━━━━\u001B[0m\u001B[37m\u001B[0m \u001B[1m2s\u001B[0m 2ms/step - accuracy: 0.9967 - loss: 0.0101\n",
      "Epoch 117/150\n",
      "\u001B[1m1200/1200\u001B[0m \u001B[32m━━━━━━━━━━━━━━━━━━━━\u001B[0m\u001B[37m\u001B[0m \u001B[1m2s\u001B[0m 2ms/step - accuracy: 0.9965 - loss: 0.0105\n",
      "Epoch 118/150\n",
      "\u001B[1m1200/1200\u001B[0m \u001B[32m━━━━━━━━━━━━━━━━━━━━\u001B[0m\u001B[37m\u001B[0m \u001B[1m2s\u001B[0m 2ms/step - accuracy: 0.9969 - loss: 0.0085\n",
      "Epoch 119/150\n",
      "\u001B[1m1200/1200\u001B[0m \u001B[32m━━━━━━━━━━━━━━━━━━━━\u001B[0m\u001B[37m\u001B[0m \u001B[1m2s\u001B[0m 2ms/step - accuracy: 0.9963 - loss: 0.0110\n",
      "Epoch 120/150\n",
      "\u001B[1m1200/1200\u001B[0m \u001B[32m━━━━━━━━━━━━━━━━━━━━\u001B[0m\u001B[37m\u001B[0m \u001B[1m2s\u001B[0m 2ms/step - accuracy: 0.9970 - loss: 0.0095\n",
      "Epoch 121/150\n",
      "\u001B[1m1200/1200\u001B[0m \u001B[32m━━━━━━━━━━━━━━━━━━━━\u001B[0m\u001B[37m\u001B[0m \u001B[1m2s\u001B[0m 2ms/step - accuracy: 0.9963 - loss: 0.0109\n",
      "Epoch 122/150\n",
      "\u001B[1m1200/1200\u001B[0m \u001B[32m━━━━━━━━━━━━━━━━━━━━\u001B[0m\u001B[37m\u001B[0m \u001B[1m2s\u001B[0m 2ms/step - accuracy: 0.9972 - loss: 0.0088\n",
      "Epoch 123/150\n",
      "\u001B[1m1200/1200\u001B[0m \u001B[32m━━━━━━━━━━━━━━━━━━━━\u001B[0m\u001B[37m\u001B[0m \u001B[1m2s\u001B[0m 2ms/step - accuracy: 0.9966 - loss: 0.0098\n",
      "Epoch 124/150\n",
      "\u001B[1m1200/1200\u001B[0m \u001B[32m━━━━━━━━━━━━━━━━━━━━\u001B[0m\u001B[37m\u001B[0m \u001B[1m2s\u001B[0m 2ms/step - accuracy: 0.9949 - loss: 0.0134\n",
      "Epoch 125/150\n",
      "\u001B[1m1200/1200\u001B[0m \u001B[32m━━━━━━━━━━━━━━━━━━━━\u001B[0m\u001B[37m\u001B[0m \u001B[1m2s\u001B[0m 2ms/step - accuracy: 0.9977 - loss: 0.0071\n",
      "Epoch 126/150\n",
      "\u001B[1m1200/1200\u001B[0m \u001B[32m━━━━━━━━━━━━━━━━━━━━\u001B[0m\u001B[37m\u001B[0m \u001B[1m2s\u001B[0m 2ms/step - accuracy: 0.9966 - loss: 0.0101\n",
      "Epoch 127/150\n",
      "\u001B[1m1200/1200\u001B[0m \u001B[32m━━━━━━━━━━━━━━━━━━━━\u001B[0m\u001B[37m\u001B[0m \u001B[1m2s\u001B[0m 2ms/step - accuracy: 0.9969 - loss: 0.0084\n",
      "Epoch 128/150\n",
      "\u001B[1m1200/1200\u001B[0m \u001B[32m━━━━━━━━━━━━━━━━━━━━\u001B[0m\u001B[37m\u001B[0m \u001B[1m2s\u001B[0m 2ms/step - accuracy: 0.9957 - loss: 0.0124\n",
      "Epoch 129/150\n",
      "\u001B[1m1200/1200\u001B[0m \u001B[32m━━━━━━━━━━━━━━━━━━━━\u001B[0m\u001B[37m\u001B[0m \u001B[1m2s\u001B[0m 2ms/step - accuracy: 0.9976 - loss: 0.0073\n",
      "Epoch 130/150\n",
      "\u001B[1m1200/1200\u001B[0m \u001B[32m━━━━━━━━━━━━━━━━━━━━\u001B[0m\u001B[37m\u001B[0m \u001B[1m2s\u001B[0m 2ms/step - accuracy: 0.9964 - loss: 0.0108\n",
      "Epoch 131/150\n",
      "\u001B[1m1200/1200\u001B[0m \u001B[32m━━━━━━━━━━━━━━━━━━━━\u001B[0m\u001B[37m\u001B[0m \u001B[1m2s\u001B[0m 2ms/step - accuracy: 0.9971 - loss: 0.0077\n",
      "Epoch 132/150\n",
      "\u001B[1m1200/1200\u001B[0m \u001B[32m━━━━━━━━━━━━━━━━━━━━\u001B[0m\u001B[37m\u001B[0m \u001B[1m2s\u001B[0m 2ms/step - accuracy: 0.9956 - loss: 0.0132\n",
      "Epoch 133/150\n",
      "\u001B[1m1200/1200\u001B[0m \u001B[32m━━━━━━━━━━━━━━━━━━━━\u001B[0m\u001B[37m\u001B[0m \u001B[1m2s\u001B[0m 2ms/step - accuracy: 0.9972 - loss: 0.0082\n",
      "Epoch 134/150\n",
      "\u001B[1m1200/1200\u001B[0m \u001B[32m━━━━━━━━━━━━━━━━━━━━\u001B[0m\u001B[37m\u001B[0m \u001B[1m2s\u001B[0m 2ms/step - accuracy: 0.9974 - loss: 0.0086\n",
      "Epoch 135/150\n",
      "\u001B[1m1200/1200\u001B[0m \u001B[32m━━━━━━━━━━━━━━━━━━━━\u001B[0m\u001B[37m\u001B[0m \u001B[1m2s\u001B[0m 2ms/step - accuracy: 0.9969 - loss: 0.0092\n",
      "Epoch 136/150\n",
      "\u001B[1m1200/1200\u001B[0m \u001B[32m━━━━━━━━━━━━━━━━━━━━\u001B[0m\u001B[37m\u001B[0m \u001B[1m2s\u001B[0m 2ms/step - accuracy: 0.9962 - loss: 0.0113\n",
      "Epoch 137/150\n",
      "\u001B[1m1200/1200\u001B[0m \u001B[32m━━━━━━━━━━━━━━━━━━━━\u001B[0m\u001B[37m\u001B[0m \u001B[1m2s\u001B[0m 2ms/step - accuracy: 0.9976 - loss: 0.0073\n",
      "Epoch 138/150\n",
      "\u001B[1m1200/1200\u001B[0m \u001B[32m━━━━━━━━━━━━━━━━━━━━\u001B[0m\u001B[37m\u001B[0m \u001B[1m2s\u001B[0m 2ms/step - accuracy: 0.9963 - loss: 0.0111\n",
      "Epoch 139/150\n",
      "\u001B[1m1200/1200\u001B[0m \u001B[32m━━━━━━━━━━━━━━━━━━━━\u001B[0m\u001B[37m\u001B[0m \u001B[1m2s\u001B[0m 2ms/step - accuracy: 0.9977 - loss: 0.0067\n",
      "Epoch 140/150\n",
      "\u001B[1m1200/1200\u001B[0m \u001B[32m━━━━━━━━━━━━━━━━━━━━\u001B[0m\u001B[37m\u001B[0m \u001B[1m2s\u001B[0m 2ms/step - accuracy: 0.9965 - loss: 0.0105\n",
      "Epoch 141/150\n",
      "\u001B[1m1200/1200\u001B[0m \u001B[32m━━━━━━━━━━━━━━━━━━━━\u001B[0m\u001B[37m\u001B[0m \u001B[1m2s\u001B[0m 2ms/step - accuracy: 0.9973 - loss: 0.0077\n",
      "Epoch 142/150\n",
      "\u001B[1m1200/1200\u001B[0m \u001B[32m━━━━━━━━━━━━━━━━━━━━\u001B[0m\u001B[37m\u001B[0m \u001B[1m2s\u001B[0m 2ms/step - accuracy: 0.9982 - loss: 0.0054\n",
      "Epoch 143/150\n",
      "\u001B[1m1200/1200\u001B[0m \u001B[32m━━━━━━━━━━━━━━━━━━━━\u001B[0m\u001B[37m\u001B[0m \u001B[1m2s\u001B[0m 2ms/step - accuracy: 0.9971 - loss: 0.0091\n",
      "Epoch 144/150\n",
      "\u001B[1m1200/1200\u001B[0m \u001B[32m━━━━━━━━━━━━━━━━━━━━\u001B[0m\u001B[37m\u001B[0m \u001B[1m2s\u001B[0m 2ms/step - accuracy: 0.9971 - loss: 0.0084\n",
      "Epoch 145/150\n",
      "\u001B[1m1200/1200\u001B[0m \u001B[32m━━━━━━━━━━━━━━━━━━━━\u001B[0m\u001B[37m\u001B[0m \u001B[1m2s\u001B[0m 2ms/step - accuracy: 0.9967 - loss: 0.0101\n",
      "Epoch 146/150\n",
      "\u001B[1m1200/1200\u001B[0m \u001B[32m━━━━━━━━━━━━━━━━━━━━\u001B[0m\u001B[37m\u001B[0m \u001B[1m2s\u001B[0m 2ms/step - accuracy: 0.9971 - loss: 0.0084\n",
      "Epoch 147/150\n",
      "\u001B[1m1200/1200\u001B[0m \u001B[32m━━━━━━━━━━━━━━━━━━━━\u001B[0m\u001B[37m\u001B[0m \u001B[1m2s\u001B[0m 2ms/step - accuracy: 0.9976 - loss: 0.0079\n",
      "Epoch 148/150\n",
      "\u001B[1m1200/1200\u001B[0m \u001B[32m━━━━━━━━━━━━━━━━━━━━\u001B[0m\u001B[37m\u001B[0m \u001B[1m2s\u001B[0m 2ms/step - accuracy: 0.9956 - loss: 0.0122\n",
      "Epoch 149/150\n",
      "\u001B[1m1200/1200\u001B[0m \u001B[32m━━━━━━━━━━━━━━━━━━━━\u001B[0m\u001B[37m\u001B[0m \u001B[1m2s\u001B[0m 2ms/step - accuracy: 0.9977 - loss: 0.0075\n",
      "Epoch 150/150\n",
      "\u001B[1m1200/1200\u001B[0m \u001B[32m━━━━━━━━━━━━━━━━━━━━\u001B[0m\u001B[37m\u001B[0m \u001B[1m2s\u001B[0m 2ms/step - accuracy: 0.9977 - loss: 0.0067\n"
     ]
    }
   ],
   "source": [
    "print(y_train.shape)\n",
    "print(x_train.shape)\n",
    "history = model.fit(x_train, y_train, epochs=150, batch_size=50, verbose = 1)"
   ]
  },
  {
   "cell_type": "code",
   "execution_count": null,
   "metadata": {
    "execution": {
     "iopub.execute_input": "2024-09-06T15:14:22.729345Z",
     "iopub.status.busy": "2024-09-06T15:14:22.728786Z",
     "iopub.status.idle": "2024-09-06T15:14:23.307591Z",
     "shell.execute_reply": "2024-09-06T15:14:23.306377Z",
     "shell.execute_reply.started": "2024-09-06T15:14:22.729279Z"
    },
    "trusted": true,
    "id": "FWubFCDVbQsI",
    "outputId": "5237d81c-64bc-46ce-c388-dc36f9e68d6f"
   },
   "outputs": [
    {
     "data": {
      "image/png": "[encoded data removed]",
      "text/plain": [
       "<Figure size 640x480 with 1 Axes>"
      ]
     },
     "metadata": {},
     "output_type": "display_data"
    },
    {
     "data": {
      "image/png": "[encoded data removed]",
      "text/plain": [
       "<Figure size 640x480 with 1 Axes>"
      ]
     },
     "metadata": {},
     "output_type": "display_data"
    }
   ],
   "source": [
    "import matplotlib.pyplot as plt\n",
    "\n",
    "# Plotting loss\n",
    "plt.plot(history.history['loss'])\n",
    "plt.title('Binary Cross Entropy Loss on Train dataset')\n",
    "plt.ylabel('loss')\n",
    "plt.xlabel('epoch')\n",
    "plt.show()\n",
    "\n",
    "# Plotting accuracy metric\n",
    "plt.plot(history.history['accuracy'])\n",
    "plt.title('Accuracy on the train dataset')\n",
    "plt.ylabel('accuracy')\n",
    "plt.xlabel('epoch')\n",
    "plt.show()"
   ]
  },
  {
   "cell_type": "markdown",
   "metadata": {
    "id": "odUTT9nlbQsI"
   },
   "source": [
    "## Step 5: Evaluate model\n",
    "We can evaluate our model on validation dataset using the `evaluate()` function. This will generate a prediction for each input and output pair and collect scores, including the average loss and any metrics you have configured, such as accuracy that we set before."
   ]
  },
  {
   "cell_type": "code",
   "execution_count": null,
   "metadata": {
    "execution": {
     "iopub.execute_input": "2024-09-06T15:13:28.735449Z",
     "iopub.status.busy": "2024-09-06T15:13:28.734946Z",
     "iopub.status.idle": "2024-09-06T15:13:29.238143Z",
     "shell.execute_reply": "2024-09-06T15:13:29.236915Z",
     "shell.execute_reply.started": "2024-09-06T15:13:28.735405Z"
    },
    "trusted": true,
    "id": "v2XyTYtTbQsI",
    "outputId": "bd536019-6dc9-4bc7-f0e0-efb72cbe45fd"
   },
   "outputs": [
    {
     "name": "stdout",
     "output_type": "stream",
     "text": [
      "\u001B[1m313/313\u001B[0m \u001B[32m━━━━━━━━━━━━━━━━━━━━\u001B[0m\u001B[37m\u001B[0m \u001B[1m0s\u001B[0m 1ms/step - accuracy: 0.9510 - loss: 0.5319\n",
      "Loss :  0.4398405849933624\n",
      "Accuracy :  0.9580000042915344\n"
     ]
    }
   ],
   "source": [
    "loss, accuracy = model.evaluate(x_test, y_test)\n",
    "print(\"Loss : \",loss)\n",
    "print(\"Accuracy : \",accuracy)"
   ]
  },
  {
   "cell_type": "code",
   "execution_count": null,
   "metadata": {
    "execution": {
     "iopub.execute_input": "2024-09-06T15:23:14.363884Z",
     "iopub.status.busy": "2024-09-06T15:23:14.363414Z",
     "iopub.status.idle": "2024-09-06T15:23:15.034772Z",
     "shell.execute_reply": "2024-09-06T15:23:15.033499Z",
     "shell.execute_reply.started": "2024-09-06T15:23:14.363841Z"
    },
    "trusted": true,
    "id": "fnzrdnALbQsI",
    "outputId": "d310a421-a027-4a3d-b7ca-3b3f27351ce4"
   },
   "outputs": [
    {
     "name": "stdout",
     "output_type": "stream",
     "text": [
      "\u001B[1m313/313\u001B[0m \u001B[32m━━━━━━━━━━━━━━━━━━━━\u001B[0m\u001B[37m\u001B[0m \u001B[1m0s\u001B[0m 1ms/step\n"
     ]
    }
   ],
   "source": [
    "prediction = model.predict([x_test])[:6]"
   ]
  },
  {
   "cell_type": "code",
   "execution_count": null,
   "metadata": {
    "execution": {
     "iopub.execute_input": "2024-09-06T15:23:17.251241Z",
     "iopub.status.busy": "2024-09-06T15:23:17.250766Z",
     "iopub.status.idle": "2024-09-06T15:23:17.257838Z",
     "shell.execute_reply": "2024-09-06T15:23:17.256242Z",
     "shell.execute_reply.started": "2024-09-06T15:23:17.251187Z"
    },
    "trusted": true,
    "id": "_ep6gHGybQsI"
   },
   "outputs": [],
   "source": [
    "import numpy as np\n",
    "pr = [np.argmax(i)for i in prediction]"
   ]
  },
  {
   "cell_type": "code",
   "execution_count": null,
   "metadata": {
    "execution": {
     "iopub.execute_input": "2024-09-06T15:31:52.606419Z",
     "iopub.status.busy": "2024-09-06T15:31:52.605937Z",
     "iopub.status.idle": "2024-09-06T15:31:52.977486Z",
     "shell.execute_reply": "2024-09-06T15:31:52.976123Z",
     "shell.execute_reply.started": "2024-09-06T15:31:52.606370Z"
    },
    "trusted": true,
    "id": "gPkRKrxabQsI",
    "outputId": "371e7b63-e5f8-477f-85a0-5285012accb7"
   },
   "outputs": [
    {
     "data": {
      "image/png": "[encoded data removed]",
      "text/plain": [
       "<Figure size 800x800 with 6 Axes>"
      ]
     },
     "metadata": {},
     "output_type": "display_data"
    }
   ],
   "source": [
    "fig, axs = plt.subplots(2, 3, figsize=(8, 8))\n",
    "\n",
    "for i in range(2):\n",
    "    for j in range(3):\n",
    "        axs[i][j].imshow(x_test[i*3+j])\n",
    "        axs[i][j].set_title(f'Real: {y_test[i*3+j]} Predicted: {pr[i*3+j]}')\n",
    "        axs[i][j].set_xticks([])\n",
    "        axs[i][j].set_yticks([])\n",
    "\n",
    "plt.show()"
   ]
  },
  {
   "cell_type": "markdown",
   "metadata": {
    "id": "nNFtAiPrbQsJ"
   },
   "source": []
  }
 ],
 "metadata": {
  "kaggle": {
   "accelerator": "none",
   "dataSources": [],
   "dockerImageVersionId": 30761,
   "isGpuEnabled": false,
   "isInternetEnabled": true,
   "language": "python",
   "sourceType": "notebook"
  },
  "kernelspec": {
   "display_name": "Python 3",
   "language": "python",
   "name": "python3"
  },
  "language_info": {
   "codemirror_mode": {
    "name": "ipython",
    "version": 3
   },
   "file_extension": ".py",
   "mimetype": "text/x-python",
   "name": "python",
   "nbconvert_exporter": "python",
   "pygments_lexer": "ipython3",
   "version": "3.10.14"
  },
  "colab": {
   "provenance": []
  }
 },
 "nbformat": 4,
 "nbformat_minor": 0
}